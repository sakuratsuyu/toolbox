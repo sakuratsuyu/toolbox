{
 "cells": [
  {
   "cell_type": "code",
   "execution_count": 11,
   "metadata": {},
   "outputs": [],
   "source": [
    "import numpy as np\n",
    "\n",
    "class Pdf:\n",
    "    def __call__(self, x):\n",
    "        pass\n",
    "\n",
    "    def sample(self, n):\n",
    "        pass\n",
    "\n",
    "# distribution to estimate\n",
    "class Norm(Pdf):\n",
    "    def __init__(self, mu, sigma):\n",
    "        self.mu = mu\n",
    "        self.sigma = sigma\n",
    "\n",
    "    def __call__(self, x):\n",
    "        return 1 / (self.sigma * (2 * 3.14159) ** 0.5) * 2.71828 ** (-(x - self.mu) ** 2 / (2 * self.sigma ** 2))\n",
    "\n",
    "    def sample(self, n):\n",
    "        return np.random.normal(self.mu, self.sigma, n)\n",
    "\n",
    "# proposal distribution\n",
    "class Unif(Pdf):\n",
    "    def __init__(self, a, b):\n",
    "        self.a = a\n",
    "        self.b = b\n",
    "\n",
    "    def __call__(self, x):\n",
    "        return np.ones_like(x) * 1 / (self.b - self.a)\n",
    "\n",
    "    def sample(self, n):\n",
    "        return np.random.uniform(self.a, self.b, n)\n",
    "\n",
    "class ImportanceSampler:\n",
    "    def __init__(self, target, proposal):\n",
    "        self.target = target\n",
    "        self.proposal = proposal\n",
    "\n",
    "    def sample(self, n):\n",
    "        samples = self.proposal.sample(n)\n",
    "        weights = self.target(samples) / self.proposal(samples)\n",
    "        norm_weights = weights / np.sum(weights)\n",
    "        return samples, norm_weights"
   ]
  },
  {
   "cell_type": "code",
   "execution_count": 12,
   "metadata": {},
   "outputs": [],
   "source": [
    "M = 200000\n",
    "target = Norm(0, 1)\n",
    "proposal = Unif(-10, 10)\n",
    "sampler = ImportanceSampler(target, proposal)\n",
    "biased_samples, weights = sampler.sample(M)"
   ]
  },
  {
   "cell_type": "code",
   "execution_count": 13,
   "metadata": {},
   "outputs": [],
   "source": [
    "N = 100000\n",
    "samples = np.random.choice(biased_samples, N, p=weights)"
   ]
  },
  {
   "cell_type": "code",
   "execution_count": 14,
   "metadata": {},
   "outputs": [
    {
     "data": {
      "text/plain": [
       "[<matplotlib.lines.Line2D at 0x74bd44144a60>]"
      ]
     },
     "execution_count": 14,
     "metadata": {},
     "output_type": "execute_result"
    },
    {
     "data": {
      "image/png": "[encoded data removed]",
      "text/plain": [
       "<Figure size 640x480 with 1 Axes>"
      ]
     },
     "metadata": {},
     "output_type": "display_data"
    }
   ],
   "source": [
    "import matplotlib.pyplot as plt\n",
    "\n",
    "# estimated distribution\n",
    "_ = plt.hist(samples, bins=100, density=True)\n",
    "# target distribution\n",
    "x = np.linspace(-5, 5, 1000)\n",
    "plt.plot(x, target(x))"
   ]
  },
  {
   "cell_type": "code",
   "execution_count": 149,
   "metadata": {},
   "outputs": [
    {
     "name": "stdout",
     "output_type": "stream",
     "text": [
      "0.6666666666666666\n",
      "0.6646526655595224\n",
      "0.6646526655595224\n"
     ]
    }
   ],
   "source": [
    "import scipy.integrate as si\n",
    "\n",
    "def func(x):\n",
    "    return x ** 2\n",
    "\n",
    "a = -1\n",
    "b = 1\n",
    "\n",
    "print(si.quad(func, a, b)[0])\n",
    "\n",
    "N = 10000\n",
    "samples = np.random.uniform(a, b, N)\n",
    "weights = np.ones_like(samples) * 1 / (b - a)\n",
    "print(1 / N * np.sum(func(samples) / weights))\n",
    "pdf = lambda x: 3 / 2 * x ** 2\n",
    "print(1 / N * np.sum(func(samples) / weights))"
   ]
  },
  {
   "cell_type": "code",
   "execution_count": 150,
   "metadata": {},
   "outputs": [
    {
     "name": "stdout",
     "output_type": "stream",
     "text": [
      "0.7800998276303738 0.7800998276303737 0.6690730341816047\n",
      "0.6424183861896715 0.6424183861896715 0.6617734681661914\n",
      "0.6410674327813799 0.6410674327813797 0.6614648159501659\n",
      "0.625538936339364 0.625538936339364 0.6845989812179094\n",
      "0.6354273157804236 0.6354273157804234 0.647173827226935\n",
      "0.658659817188438 0.6586598171884377 0.678263257723197\n",
      "0.6592683595380311 0.6592683595380311 0.6664919759033001\n",
      "0.6733033125031007 0.6733033125031005 0.6749949134511736\n",
      "0.6948033154498586 0.6948033154498588 0.6651913543218058\n",
      "0.6233032642074027 0.6233032642074027 0.6704358020891587\n",
      "0.0019505283265861813 0.0019505283265861813 9.622154080256214e-05\n"
     ]
    }
   ],
   "source": [
    "M = 10000\n",
    "\n",
    "class Dist(Pdf):\n",
    "    def __init__(self):\n",
    "        self.func = func\n",
    "\n",
    "    def __call__(self, x):\n",
    "        return 3 / 2 * x ** 2\n",
    "\n",
    "    def sample(self, n):\n",
    "        assert False\n",
    "\n",
    "class ImportanceSampler:\n",
    "    def __init__(self, target, proposal):\n",
    "        self.target = target\n",
    "        self.proposal = proposal\n",
    "\n",
    "    def sample(self, n):\n",
    "        samples = self.proposal.sample(n)\n",
    "        weights = self.target(samples) / self.proposal(samples)\n",
    "        norm_weights = weights / np.sum(weights)\n",
    "        return samples, norm_weights\n",
    "\n",
    "target = Dist()\n",
    "proposal = Unif(-1, 1)\n",
    "\n",
    "sampler = ImportanceSampler(target, proposal)\n",
    "\n",
    "TIMES = 10\n",
    "preds_0 = []\n",
    "preds_00 = []\n",
    "preds_1 = []\n",
    "for _ in range(TIMES):\n",
    "    biased_samples, weights = sampler.sample(M)\n",
    "    samples = np.random.choice(biased_samples, N, p=weights)\n",
    "    pred_0 = 1 / N * np.sum(func(samples) / target(samples) * 1 / M * np.sum((proposal(samples) / target(samples))))\n",
    "    preds_0.append(pred_0)\n",
    "    pred_00 = func(samples[0]) / target(samples[0]) * 1 / M * np.sum((proposal(samples) / target(samples)))\n",
    "    preds_00.append(pred_00)\n",
    "\n",
    "    samples = np.random.uniform(a, b, N)\n",
    "    weights = np.ones_like(samples) * 1 / (b - a)\n",
    "    pred_1 = 1 / N * np.sum(func(samples) / weights)\n",
    "    preds_1.append(pred_1)\n",
    "\n",
    "    print(pred_0, pred_00, pred_1)\n",
    "\n",
    "print(np.var(preds_0), np.var(preds_00), np.var(preds_1))"
   ]
  }
 ],
 "metadata": {
  "kernelspec": {
   "display_name": "imsp",
   "language": "python",
   "name": "python3"
  },
  "language_info": {
   "codemirror_mode": {
    "name": "ipython",
    "version": 3
   },
   "file_extension": ".py",
   "mimetype": "text/x-python",
   "name": "python",
   "nbconvert_exporter": "python",
   "pygments_lexer": "ipython3",
   "version": "3.10.14"
  }
 },
 "nbformat": 4,
 "nbformat_minor": 2
}
